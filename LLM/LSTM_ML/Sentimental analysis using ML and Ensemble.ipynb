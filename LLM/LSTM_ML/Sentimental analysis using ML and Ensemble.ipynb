{
  "cells": [
    {
      "cell_type": "code",
      "execution_count": 16,
      "metadata": {
        "id": "xt5m3EXmjQHu"
      },
      "outputs": [],
      "source": [
        "import pandas as pd"
      ]
    },
    {
      "cell_type": "code",
      "execution_count": 17,
      "metadata": {
        "colab": {
          "base_uri": "https://localhost:8080/",
          "height": 204
        },
        "id": "TmEW0pBRk8jz",
        "outputId": "4cbb641c-b2d7-4d24-fb40-32c03120ddfb"
      },
      "outputs": [
        {
          "data": {
            "text/html": [
              "<div>\n",
              "<style scoped>\n",
              "    .dataframe tbody tr th:only-of-type {\n",
              "        vertical-align: middle;\n",
              "    }\n",
              "\n",
              "    .dataframe tbody tr th {\n",
              "        vertical-align: top;\n",
              "    }\n",
              "\n",
              "    .dataframe thead th {\n",
              "        text-align: right;\n",
              "    }\n",
              "</style>\n",
              "<table border=\"1\" class=\"dataframe\">\n",
              "  <thead>\n",
              "    <tr style=\"text-align: right;\">\n",
              "      <th></th>\n",
              "      <th>text</th>\n",
              "      <th>category</th>\n",
              "    </tr>\n",
              "  </thead>\n",
              "  <tbody>\n",
              "    <tr>\n",
              "      <th>0</th>\n",
              "      <td>trailer late ah parthavanga like podunga</td>\n",
              "      <td>Positive</td>\n",
              "    </tr>\n",
              "    <tr>\n",
              "      <th>1</th>\n",
              "      <td>move pathutu vanthu trailer pakurvnga yaru</td>\n",
              "      <td>Positive</td>\n",
              "    </tr>\n",
              "    <tr>\n",
              "      <th>2</th>\n",
              "      <td>puthupetai dhanush  ah yarellam pathinga</td>\n",
              "      <td>Positive</td>\n",
              "    </tr>\n",
              "    <tr>\n",
              "      <th>3</th>\n",
              "      <td>dhanush oda character puthu sa erukay  mass ta</td>\n",
              "      <td>Positive</td>\n",
              "    </tr>\n",
              "    <tr>\n",
              "      <th>4</th>\n",
              "      <td>vera level ippa pesungada mokka nu thalaivaaaaaa</td>\n",
              "      <td>Positive</td>\n",
              "    </tr>\n",
              "  </tbody>\n",
              "</table>\n",
              "</div>"
            ],
            "text/plain": [
              "                                               text  category\n",
              "0          trailer late ah parthavanga like podunga  Positive\n",
              "1        move pathutu vanthu trailer pakurvnga yaru  Positive\n",
              "2          puthupetai dhanush  ah yarellam pathinga  Positive\n",
              "3    dhanush oda character puthu sa erukay  mass ta  Positive\n",
              "4  vera level ippa pesungada mokka nu thalaivaaaaaa  Positive"
            ]
          },
          "execution_count": 17,
          "metadata": {},
          "output_type": "execute_result"
        }
      ],
      "source": [
        "tamil_train_data = pd.read_csv(\"tamil_train.tsv_cleaned.csv\")\n",
        "tamil_train_data.head()\n"
      ]
    },
    {
      "cell_type": "code",
      "execution_count": 18,
      "metadata": {
        "colab": {
          "base_uri": "https://localhost:8080/",
          "height": 204
        },
        "id": "gQHK4BIPGjKV",
        "outputId": "1f37de57-fa40-41e0-dcb0-e721fa49fb0e"
      },
      "outputs": [
        {
          "data": {
            "text/html": [
              "<div>\n",
              "<style scoped>\n",
              "    .dataframe tbody tr th:only-of-type {\n",
              "        vertical-align: middle;\n",
              "    }\n",
              "\n",
              "    .dataframe tbody tr th {\n",
              "        vertical-align: top;\n",
              "    }\n",
              "\n",
              "    .dataframe thead th {\n",
              "        text-align: right;\n",
              "    }\n",
              "</style>\n",
              "<table border=\"1\" class=\"dataframe\">\n",
              "  <thead>\n",
              "    <tr style=\"text-align: right;\">\n",
              "      <th></th>\n",
              "      <th>text</th>\n",
              "      <th>category</th>\n",
              "    </tr>\n",
              "  </thead>\n",
              "  <tbody>\n",
              "    <tr>\n",
              "      <th>0</th>\n",
              "      <td>daily likes  views pakka vanthavaga ellarukum ...</td>\n",
              "      <td>Positive</td>\n",
              "    </tr>\n",
              "    <tr>\n",
              "      <th>1</th>\n",
              "      <td>k dislikes ethuku da intha trailerku poi apdi...</td>\n",
              "      <td>Negative</td>\n",
              "    </tr>\n",
              "    <tr>\n",
              "      <th>2</th>\n",
              "      <td>lyca unna nenacha pavama iruku ya</td>\n",
              "      <td>Mixed_feelings</td>\n",
              "    </tr>\n",
              "    <tr>\n",
              "      <th>3</th>\n",
              "      <td>it looks like hindi movie amitab bachan</td>\n",
              "      <td>Positive</td>\n",
              "    </tr>\n",
              "    <tr>\n",
              "      <th>4</th>\n",
              "      <td>thalaivarukku nejamavey vayasaagiduchu sivaji ...</td>\n",
              "      <td>Positive</td>\n",
              "    </tr>\n",
              "  </tbody>\n",
              "</table>\n",
              "</div>"
            ],
            "text/plain": [
              "                                                text        category\n",
              "0  daily likes  views pakka vanthavaga ellarukum ...        Positive\n",
              "1   k dislikes ethuku da intha trailerku poi apdi...        Negative\n",
              "2                  lyca unna nenacha pavama iruku ya  Mixed_feelings\n",
              "3            it looks like hindi movie amitab bachan        Positive\n",
              "4  thalaivarukku nejamavey vayasaagiduchu sivaji ...        Positive"
            ]
          },
          "execution_count": 18,
          "metadata": {},
          "output_type": "execute_result"
        }
      ],
      "source": [
        "tamil_val_data = pd.read_csv(\"tamil_dev.tsv_cleaned.csv\")\n",
        "tamil_val_data.head()"
      ]
    },
    {
      "cell_type": "code",
      "execution_count": 19,
      "metadata": {
        "id": "EA9IlQ0RIC3G"
      },
      "outputs": [],
      "source": [
        "import matplotlib.pyplot as plt"
      ]
    },
    {
      "cell_type": "code",
      "execution_count": 20,
      "metadata": {},
      "outputs": [
        {
          "data": {
            "text/plain": [
              "Positive          7627\n",
              "Negative          1448\n",
              "Mixed_feelings    1283\n",
              "unknown_state      609\n",
              "Name: category, dtype: int64"
            ]
          },
          "execution_count": 20,
          "metadata": {},
          "output_type": "execute_result"
        }
      ],
      "source": [
        "tamil_train_data['category'].value_counts()"
      ]
    },
    {
      "cell_type": "code",
      "execution_count": 21,
      "metadata": {
        "colab": {
          "base_uri": "https://localhost:8080/",
          "height": 355
        },
        "id": "Nw3SMRVMIVwY",
        "outputId": "b84aa9c1-8460-480b-a5a4-498905b11444"
      },
      "outputs": [
        {
          "data": {
            "text/plain": [
              "<Axes: >"
            ]
          },
          "execution_count": 21,
          "metadata": {},
          "output_type": "execute_result"
        },
        {
          "data": {
            "image/png": "[encoded data removed]",
            "text/plain": [
              "<Figure size 600x400 with 1 Axes>"
            ]
          },
          "metadata": {},
          "output_type": "display_data"
        }
      ],
      "source": [
        "tamil_train_data['category'].value_counts().plot.bar(color = 'pink', figsize = (6, 4))"
      ]
    },
    {
      "cell_type": "code",
      "execution_count": 22,
      "metadata": {
        "colab": {
          "base_uri": "https://localhost:8080/",
          "height": 266
        },
        "id": "Iw6a1y5bIghP",
        "outputId": "a1e786d0-3743-464a-940e-423b1efdaa39"
      },
      "outputs": [
        {
          "data": {
            "text/html": [
              "<div>\n",
              "<style scoped>\n",
              "    .dataframe tbody tr th:only-of-type {\n",
              "        vertical-align: middle;\n",
              "    }\n",
              "\n",
              "    .dataframe tbody tr th {\n",
              "        vertical-align: top;\n",
              "    }\n",
              "\n",
              "    .dataframe thead tr th {\n",
              "        text-align: left;\n",
              "    }\n",
              "\n",
              "    .dataframe thead tr:last-of-type th {\n",
              "        text-align: right;\n",
              "    }\n",
              "</style>\n",
              "<table border=\"1\" class=\"dataframe\">\n",
              "  <thead>\n",
              "    <tr>\n",
              "      <th></th>\n",
              "      <th colspan=\"4\" halign=\"left\">text</th>\n",
              "    </tr>\n",
              "    <tr>\n",
              "      <th></th>\n",
              "      <th>count</th>\n",
              "      <th>unique</th>\n",
              "      <th>top</th>\n",
              "      <th>freq</th>\n",
              "    </tr>\n",
              "    <tr>\n",
              "      <th>category</th>\n",
              "      <th></th>\n",
              "      <th></th>\n",
              "      <th></th>\n",
              "      <th></th>\n",
              "    </tr>\n",
              "  </thead>\n",
              "  <tbody>\n",
              "    <tr>\n",
              "      <th>Mixed_feelings</th>\n",
              "      <td>1283</td>\n",
              "      <td>1274</td>\n",
              "      <td>caller tune la kola gaandla irukkaen mavana ko...</td>\n",
              "      <td>3</td>\n",
              "    </tr>\n",
              "    <tr>\n",
              "      <th>Negative</th>\n",
              "      <td>1448</td>\n",
              "      <td>1448</td>\n",
              "      <td>ivara pathta death vadi madiri irukku</td>\n",
              "      <td>1</td>\n",
              "    </tr>\n",
              "    <tr>\n",
              "      <th>Positive</th>\n",
              "      <td>7627</td>\n",
              "      <td>7532</td>\n",
              "      <td>neraya neraya neraya neraya neraya neraya</td>\n",
              "      <td>6</td>\n",
              "    </tr>\n",
              "    <tr>\n",
              "      <th>unknown_state</th>\n",
              "      <td>609</td>\n",
              "      <td>607</td>\n",
              "      <td>viswasam fastest k dislikes world record</td>\n",
              "      <td>2</td>\n",
              "    </tr>\n",
              "  </tbody>\n",
              "</table>\n",
              "</div>"
            ],
            "text/plain": [
              "                text         \\\n",
              "               count unique   \n",
              "category                      \n",
              "Mixed_feelings  1283   1274   \n",
              "Negative        1448   1448   \n",
              "Positive        7627   7532   \n",
              "unknown_state    609    607   \n",
              "\n",
              "                                                                        \n",
              "                                                              top freq  \n",
              "category                                                                \n",
              "Mixed_feelings  caller tune la kola gaandla irukkaen mavana ko...    3  \n",
              "Negative                    ivara pathta death vadi madiri irukku    1  \n",
              "Positive                neraya neraya neraya neraya neraya neraya    6  \n",
              "unknown_state            viswasam fastest k dislikes world record    2  "
            ]
          },
          "execution_count": 22,
          "metadata": {},
          "output_type": "execute_result"
        }
      ],
      "source": [
        "tamil_train_data.groupby('category').describe()"
      ]
    },
    {
      "cell_type": "code",
      "execution_count": 23,
      "metadata": {
        "colab": {
          "base_uri": "https://localhost:8080/",
          "height": 204
        },
        "id": "mUoL4w6dO72v",
        "outputId": "064ef79e-3061-41dc-d4fe-4913a518817b"
      },
      "outputs": [
        {
          "data": {
            "text/html": [
              "<div>\n",
              "<style scoped>\n",
              "    .dataframe tbody tr th:only-of-type {\n",
              "        vertical-align: middle;\n",
              "    }\n",
              "\n",
              "    .dataframe tbody tr th {\n",
              "        vertical-align: top;\n",
              "    }\n",
              "\n",
              "    .dataframe thead th {\n",
              "        text-align: right;\n",
              "    }\n",
              "</style>\n",
              "<table border=\"1\" class=\"dataframe\">\n",
              "  <thead>\n",
              "    <tr style=\"text-align: right;\">\n",
              "      <th></th>\n",
              "      <th>text</th>\n",
              "      <th>category</th>\n",
              "    </tr>\n",
              "  </thead>\n",
              "  <tbody>\n",
              "    <tr>\n",
              "      <th>0</th>\n",
              "      <td>yarayellam fdfs ppga ippove ready agitinga</td>\n",
              "      <td>Positive</td>\n",
              "    </tr>\n",
              "    <tr>\n",
              "      <th>1</th>\n",
              "      <td>ennada viswasam mersal sarkar madhri time la l...</td>\n",
              "      <td>Positive</td>\n",
              "    </tr>\n",
              "    <tr>\n",
              "      <th>2</th>\n",
              "      <td>yuvan vera level ya  valuable script sk in action</td>\n",
              "      <td>Positive</td>\n",
              "    </tr>\n",
              "    <tr>\n",
              "      <th>3</th>\n",
              "      <td>vayasulayum thanoda rasigargala sandhosapadut...</td>\n",
              "      <td>Mixed_feelings</td>\n",
              "    </tr>\n",
              "    <tr>\n",
              "      <th>4</th>\n",
              "      <td>all the best annatelugu makkal selvan fans</td>\n",
              "      <td>Positive</td>\n",
              "    </tr>\n",
              "  </tbody>\n",
              "</table>\n",
              "</div>"
            ],
            "text/plain": [
              "                                                text        category\n",
              "0         yarayellam fdfs ppga ippove ready agitinga        Positive\n",
              "1  ennada viswasam mersal sarkar madhri time la l...        Positive\n",
              "2  yuvan vera level ya  valuable script sk in action        Positive\n",
              "3   vayasulayum thanoda rasigargala sandhosapadut...  Mixed_feelings\n",
              "4         all the best annatelugu makkal selvan fans        Positive"
            ]
          },
          "execution_count": 23,
          "metadata": {},
          "output_type": "execute_result"
        }
      ],
      "source": [
        "tamil_test_data = pd.read_csv(\"tamil_test.tsv_cleaned.csv\")\n",
        "tamil_test_data.head()"
      ]
    },
    {
      "cell_type": "code",
      "execution_count": 24,
      "metadata": {
        "colab": {
          "base_uri": "https://localhost:8080/",
          "height": 266
        },
        "id": "5TrPjyFwZPfk",
        "outputId": "f9f8d932-e180-4e39-cfbf-5d98c84356c7"
      },
      "outputs": [
        {
          "data": {
            "text/html": [
              "<div>\n",
              "<style scoped>\n",
              "    .dataframe tbody tr th:only-of-type {\n",
              "        vertical-align: middle;\n",
              "    }\n",
              "\n",
              "    .dataframe tbody tr th {\n",
              "        vertical-align: top;\n",
              "    }\n",
              "\n",
              "    .dataframe thead tr th {\n",
              "        text-align: left;\n",
              "    }\n",
              "\n",
              "    .dataframe thead tr:last-of-type th {\n",
              "        text-align: right;\n",
              "    }\n",
              "</style>\n",
              "<table border=\"1\" class=\"dataframe\">\n",
              "  <thead>\n",
              "    <tr>\n",
              "      <th></th>\n",
              "      <th colspan=\"4\" halign=\"left\">text</th>\n",
              "    </tr>\n",
              "    <tr>\n",
              "      <th></th>\n",
              "      <th>count</th>\n",
              "      <th>unique</th>\n",
              "      <th>top</th>\n",
              "      <th>freq</th>\n",
              "    </tr>\n",
              "    <tr>\n",
              "      <th>category</th>\n",
              "      <th></th>\n",
              "      <th></th>\n",
              "      <th></th>\n",
              "      <th></th>\n",
              "    </tr>\n",
              "  </thead>\n",
              "  <tbody>\n",
              "    <tr>\n",
              "      <th>Mixed_feelings</th>\n",
              "      <td>377</td>\n",
              "      <td>377</td>\n",
              "      <td>vayasulayum thanoda rasigargala sandhosapadut...</td>\n",
              "      <td>1</td>\n",
              "    </tr>\n",
              "    <tr>\n",
              "      <th>Negative</th>\n",
              "      <td>424</td>\n",
              "      <td>424</td>\n",
              "      <td>padu mokkai ean thalayai kooni kondu nikkuthu ...</td>\n",
              "      <td>1</td>\n",
              "    </tr>\n",
              "    <tr>\n",
              "      <th>Positive</th>\n",
              "      <td>2075</td>\n",
              "      <td>2067</td>\n",
              "      <td>thalaivaa thalaivaa thalaivaa thalaivaa thalai...</td>\n",
              "      <td>2</td>\n",
              "    </tr>\n",
              "    <tr>\n",
              "      <th>unknown_state</th>\n",
              "      <td>173</td>\n",
              "      <td>173</td>\n",
              "      <td>vera level next movie ida vida bayangaram ha i...</td>\n",
              "      <td>1</td>\n",
              "    </tr>\n",
              "  </tbody>\n",
              "</table>\n",
              "</div>"
            ],
            "text/plain": [
              "                text         \\\n",
              "               count unique   \n",
              "category                      \n",
              "Mixed_feelings   377    377   \n",
              "Negative         424    424   \n",
              "Positive        2075   2067   \n",
              "unknown_state    173    173   \n",
              "\n",
              "                                                                        \n",
              "                                                              top freq  \n",
              "category                                                                \n",
              "Mixed_feelings   vayasulayum thanoda rasigargala sandhosapadut...    1  \n",
              "Negative        padu mokkai ean thalayai kooni kondu nikkuthu ...    1  \n",
              "Positive        thalaivaa thalaivaa thalaivaa thalaivaa thalai...    2  \n",
              "unknown_state   vera level next movie ida vida bayangaram ha i...    1  "
            ]
          },
          "execution_count": 24,
          "metadata": {},
          "output_type": "execute_result"
        }
      ],
      "source": [
        "tamil_test_data.groupby('category').describe()"
      ]
    },
    {
      "cell_type": "code",
      "execution_count": null,
      "metadata": {},
      "outputs": [],
      "source": []
    },
    {
      "cell_type": "code",
      "execution_count": 25,
      "metadata": {
        "id": "-witLUBe62XJ"
      },
      "outputs": [],
      "source": [
        "from sklearn.feature_extraction.text import TfidfVectorizer  \n",
        "tfidfconverter = TfidfVectorizer(max_features=3000)  \n",
        "X_train = tfidfconverter.fit_transform(tamil_train_data['text'].values).toarray()"
      ]
    },
    {
      "cell_type": "code",
      "execution_count": 26,
      "metadata": {},
      "outputs": [],
      "source": [
        "X_val = tfidfconverter.transform(tamil_val_data['text'].values).toarray()\n",
        "X_test = tfidfconverter.transform(tamil_test_data['text'].values).toarray()"
      ]
    },
    {
      "cell_type": "code",
      "execution_count": 27,
      "metadata": {
        "colab": {
          "base_uri": "https://localhost:8080/",
          "height": 51
        },
        "id": "AtUfxYAB9V07",
        "outputId": "0dbe349a-5849-4421-d428-aea8db2a92c0"
      },
      "outputs": [
        {
          "data": {
            "text/plain": [
              "array(['Mixed_feelings', 'Negative', 'Positive', 'unknown_state'],\n",
              "      dtype=object)"
            ]
          },
          "execution_count": 27,
          "metadata": {},
          "output_type": "execute_result"
        }
      ],
      "source": [
        "from sklearn.preprocessing import LabelEncoder\n",
        "le = LabelEncoder()\n",
        "Y_train = le.fit_transform(tamil_train_data['category'].values)\n",
        "le.classes_"
      ]
    },
    {
      "cell_type": "code",
      "execution_count": 28,
      "metadata": {},
      "outputs": [],
      "source": [
        "Y_valid = le.transform(tamil_val_data['category'].values)\n",
        "Y_test = le.transform(tamil_test_data['category'].values)"
      ]
    },
    {
      "cell_type": "markdown",
      "metadata": {
        "id": "OuA19_2cIBiA"
      },
      "source": [
        "**BERNOULI NAIVE BAYES**"
      ]
    },
    {
      "cell_type": "code",
      "execution_count": 29,
      "metadata": {
        "colab": {
          "base_uri": "https://localhost:8080/",
          "height": 255
        },
        "id": "1KQDPj7V68yo",
        "outputId": "d1360748-e02b-4fd5-808c-9269c3c26559"
      },
      "outputs": [
        {
          "name": "stdout",
          "output_type": "stream",
          "text": [
            "Training Accuracy : 0.743776784900155\n",
            "              precision    recall  f1-score   support\n",
            "\n",
            "           0       0.23      0.07      0.11       377\n",
            "           1       0.41      0.32      0.36       424\n",
            "           2       0.73      0.90      0.81      2075\n",
            "           3       0.34      0.09      0.14       173\n",
            "\n",
            "    accuracy                           0.67      3049\n",
            "   macro avg       0.43      0.34      0.35      3049\n",
            "weighted avg       0.60      0.67      0.62      3049\n",
            "\n",
            " Test ACCURACY  :  0.6723515906854707\n"
          ]
        }
      ],
      "source": [
        "from sklearn.naive_bayes import BernoulliNB\n",
        "from sklearn.metrics import classification_report, confusion_matrix, accuracy_score\n",
        " \n",
        "bnb = BernoulliNB()\n",
        "bnb.fit(X_train,Y_train)\n",
        "print(\"Training Accuracy :\" , accuracy_score(Y_train, bnb.predict(X_train)) )\n",
        "predictions1 = bnb.predict(X_test)\n",
        "#print(confusion_matrix(Y_test,predictions1))  \n",
        "print(classification_report(Y_test,predictions1))  \n",
        "print(\" Test ACCURACY  : \",accuracy_score(Y_test, predictions1))"
      ]
    },
    {
      "cell_type": "markdown",
      "metadata": {
        "id": "UPMLsmUhII65"
      },
      "source": [
        "**RANDOM FOREST**"
      ]
    },
    {
      "cell_type": "code",
      "execution_count": 30,
      "metadata": {
        "colab": {
          "base_uri": "https://localhost:8080/",
          "height": 340
        },
        "id": "t7E1M0eRIIjm",
        "outputId": "b23c686b-edb5-4341-fa3a-6e845efc1989"
      },
      "outputs": [
        {
          "name": "stdout",
          "output_type": "stream",
          "text": [
            "Training Accuracy : 0.9737394000182366\n",
            "              precision    recall  f1-score   support\n",
            "\n",
            "           0       0.15      0.07      0.09       377\n",
            "           1       0.30      0.21      0.24       424\n",
            "           2       0.72      0.87      0.79      2075\n",
            "           3       0.22      0.09      0.13       173\n",
            "\n",
            "    accuracy                           0.63      3049\n",
            "   macro avg       0.34      0.31      0.31      3049\n",
            "weighted avg       0.56      0.63      0.59      3049\n",
            "\n",
            "TEST ACCURACY  :  0.632994424401443\n"
          ]
        }
      ],
      "source": [
        "from sklearn.ensemble import RandomForestClassifier\n",
        "rf = RandomForestClassifier(n_estimators=10, random_state=0, class_weight={0:0.117 ,1: 0.132 ,2:0.695 ,3: 0.056})  \n",
        "rf.fit(X_train, Y_train)\n",
        "\n",
        "print(\"Training Accuracy :\" , accuracy_score(Y_train, rf.predict(X_train)) )\n",
        "\n",
        "predictions2 = rf.predict(X_test)\n",
        "#print(confusion_matrix(Y_test,predictions2))  \n",
        "print(classification_report(Y_test,predictions2))  \n",
        "print(\"TEST ACCURACY  : \",accuracy_score(Y_test, predictions2))"
      ]
    },
    {
      "cell_type": "markdown",
      "metadata": {
        "id": "vbpRTLA6JRV6"
      },
      "source": [
        "**SVM**"
      ]
    },
    {
      "cell_type": "code",
      "execution_count": 31,
      "metadata": {
        "colab": {
          "base_uri": "https://localhost:8080/",
          "height": 340
        },
        "id": "pAbTxtP5I090",
        "outputId": "d5c31988-83ad-452d-a04f-24bb8efdca81"
      },
      "outputs": [
        {
          "name": "stderr",
          "output_type": "stream",
          "text": [
            "c:\\Users\\Admin\\AppData\\Local\\Programs\\Python\\Python311\\Lib\\site-packages\\sklearn\\svm\\_classes.py:32: FutureWarning: The default value of `dual` will change from `True` to `'auto'` in 1.5. Set the value of `dual` explicitly to suppress the warning.\n",
            "  warnings.warn(\n"
          ]
        },
        {
          "name": "stdout",
          "output_type": "stream",
          "text": [
            "Training Accuracy : 0.7306464849092733\n",
            "              precision    recall  f1-score   support\n",
            "\n",
            "           0       0.26      0.02      0.03       377\n",
            "           1       0.49      0.11      0.17       424\n",
            "           2       0.70      0.98      0.81      2075\n",
            "           3       0.33      0.01      0.01       173\n",
            "\n",
            "    accuracy                           0.69      3049\n",
            "   macro avg       0.44      0.28      0.26      3049\n",
            "weighted avg       0.59      0.69      0.58      3049\n",
            "\n",
            " TEST ACCURACY :  0.6854706461134799\n"
          ]
        }
      ],
      "source": [
        "from sklearn.svm import LinearSVC\n",
        "sv = LinearSVC(class_weight={0:0.117 ,1: 0.132 ,2:0.695 ,3: 0.056})\n",
        "sv.fit(X_train, Y_train)\n",
        "\n",
        "print(\"Training Accuracy :\" , accuracy_score(Y_train, sv.predict(X_train)) )\n",
        "\n",
        "predictions3 = sv.predict(X_test)\n",
        "#print(confusion_matrix(Y_test,predictions3))  \n",
        "print(classification_report(Y_test,predictions3,zero_division=1))  \n",
        "print(\" TEST ACCURACY : \",accuracy_score(Y_test, predictions3))"
      ]
    },
    {
      "cell_type": "markdown",
      "metadata": {
        "id": "x2Z3ON47JvaZ"
      },
      "source": [
        "**DECISION TREES**"
      ]
    },
    {
      "cell_type": "code",
      "execution_count": 32,
      "metadata": {
        "colab": {
          "base_uri": "https://localhost:8080/",
          "height": 255
        },
        "id": "DOXoJG1jKlV7",
        "outputId": "caec96a9-d6cc-424f-b9b2-e367c0292939"
      },
      "outputs": [
        {
          "name": "stdout",
          "output_type": "stream",
          "text": [
            "Training Accuracy : 0.9953496854198961\n",
            "              precision    recall  f1-score   support\n",
            "\n",
            "           0       0.19      0.13      0.15       377\n",
            "           1       0.29      0.26      0.27       424\n",
            "           2       0.74      0.80      0.77      2075\n",
            "           3       0.15      0.12      0.14       173\n",
            "\n",
            "    accuracy                           0.61      3049\n",
            "   macro avg       0.34      0.33      0.33      3049\n",
            "weighted avg       0.57      0.61      0.59      3049\n",
            "\n",
            "TEST ACCURACY SCORE :  0.6061003607740243\n"
          ]
        }
      ],
      "source": [
        "from sklearn.tree import DecisionTreeClassifier\n",
        "dt = DecisionTreeClassifier(criterion='entropy',splitter='best', class_weight={0:0.117 ,1: 0.132 ,2:0.695 ,3: 0.056},max_features=100)\n",
        "dt.fit(X_train, Y_train)\n",
        "\n",
        "print(\"Training Accuracy :\" , accuracy_score(Y_train, dt.predict(X_train)) )\n",
        "\n",
        "predictions4 = dt.predict(X_test)\n",
        "#print(confusion_matrix(Y_test,predictions4))  \n",
        "print(classification_report(Y_test,predictions4,zero_division=1))  \n",
        "print(\"TEST ACCURACY SCORE : \",accuracy_score(Y_test, predictions4))"
      ]
    },
    {
      "cell_type": "markdown",
      "metadata": {
        "id": "2UlPk_aB6eb4"
      },
      "source": [
        "**Ada Boost Classifier + Decision Tree**"
      ]
    },
    {
      "cell_type": "code",
      "execution_count": 33,
      "metadata": {
        "colab": {
          "base_uri": "https://localhost:8080/",
          "height": 340
        },
        "id": "mO30mNMV6dj_",
        "outputId": "5d8eff0e-a728-43a0-8656-f32659675065"
      },
      "outputs": [
        {
          "name": "stderr",
          "output_type": "stream",
          "text": [
            "c:\\Users\\Admin\\AppData\\Local\\Programs\\Python\\Python311\\Lib\\site-packages\\sklearn\\ensemble\\_base.py:156: FutureWarning: `base_estimator` was renamed to `estimator` in version 1.2 and will be removed in 1.4.\n",
            "  warnings.warn(\n"
          ]
        },
        {
          "name": "stdout",
          "output_type": "stream",
          "text": [
            "Training Accuracy : 0.9953496854198961\n",
            "[[   5   17  354    1]\n",
            " [  13   37  369    5]\n",
            " [  22   35 2001   17]\n",
            " [   5    8  152    8]]\n",
            "              precision    recall  f1-score   support\n",
            "\n",
            "           0       0.11      0.01      0.02       377\n",
            "           1       0.38      0.09      0.14       424\n",
            "           2       0.70      0.96      0.81      2075\n",
            "           3       0.26      0.05      0.08       173\n",
            "\n",
            "    accuracy                           0.67      3049\n",
            "   macro avg       0.36      0.28      0.26      3049\n",
            "weighted avg       0.55      0.67      0.58      3049\n",
            "\n",
            "TEST ACCURACY :  0.6726795670711708\n"
          ]
        }
      ],
      "source": [
        "from sklearn.ensemble import AdaBoostClassifier\n",
        "abc = AdaBoostClassifier(n_estimators=100 , base_estimator= dt)\n",
        "abc.fit(X_train,Y_train)\n",
        "\n",
        "print(\"Training Accuracy :\" , accuracy_score(Y_train, abc.predict(X_train)) )\n",
        "\n",
        "predictions5 = abc.predict(X_test)\n",
        "print(confusion_matrix(Y_test,predictions5))\n",
        "print(classification_report(Y_test,predictions5))\n",
        "print(\"TEST ACCURACY : \",accuracy_score(Y_test, predictions5))"
      ]
    },
    {
      "cell_type": "code",
      "execution_count": 34,
      "metadata": {},
      "outputs": [
        {
          "name": "stderr",
          "output_type": "stream",
          "text": [
            "c:\\Users\\Admin\\AppData\\Local\\Programs\\Python\\Python311\\Lib\\site-packages\\sklearn\\svm\\_classes.py:32: FutureWarning: The default value of `dual` will change from `True` to `'auto'` in 1.5. Set the value of `dual` explicitly to suppress the warning.\n",
            "  warnings.warn(\n",
            "c:\\Users\\Admin\\AppData\\Local\\Programs\\Python\\Python311\\Lib\\site-packages\\sklearn\\svm\\_classes.py:32: FutureWarning: The default value of `dual` will change from `True` to `'auto'` in 1.5. Set the value of `dual` explicitly to suppress the warning.\n",
            "  warnings.warn(\n",
            "c:\\Users\\Admin\\AppData\\Local\\Programs\\Python\\Python311\\Lib\\site-packages\\sklearn\\svm\\_classes.py:32: FutureWarning: The default value of `dual` will change from `True` to `'auto'` in 1.5. Set the value of `dual` explicitly to suppress the warning.\n",
            "  warnings.warn(\n",
            "c:\\Users\\Admin\\AppData\\Local\\Programs\\Python\\Python311\\Lib\\site-packages\\sklearn\\svm\\_classes.py:32: FutureWarning: The default value of `dual` will change from `True` to `'auto'` in 1.5. Set the value of `dual` explicitly to suppress the warning.\n",
            "  warnings.warn(\n",
            "c:\\Users\\Admin\\AppData\\Local\\Programs\\Python\\Python311\\Lib\\site-packages\\sklearn\\svm\\_classes.py:32: FutureWarning: The default value of `dual` will change from `True` to `'auto'` in 1.5. Set the value of `dual` explicitly to suppress the warning.\n",
            "  warnings.warn(\n"
          ]
        },
        {
          "name": "stdout",
          "output_type": "stream",
          "text": [
            "              precision    recall  f1-score   support\n",
            "\n",
            "           0       0.33      0.00      0.01       377\n",
            "           1       0.55      0.07      0.12       424\n",
            "           2       0.69      0.99      0.81      2075\n",
            "           3       0.43      0.02      0.03       173\n",
            "\n",
            "    accuracy                           0.68      3049\n",
            "   macro avg       0.50      0.27      0.24      3049\n",
            "weighted avg       0.61      0.68      0.57      3049\n",
            "\n",
            " TEST ACCURACY :  0.6848146933420793\n"
          ]
        }
      ],
      "source": [
        "from sklearn.svm import LinearSVC\n",
        "from sklearn.calibration import CalibratedClassifierCV\n",
        "from sklearn.metrics import classification_report, confusion_matrix, accuracy_score\n",
        "# Assuming linear_svc is your LinearSVC model\n",
        "# Convert LinearSVC to SVC with a linear kernel and enable probability estimation\n",
        "sv2 = LinearSVC(class_weight={0:0.117 ,1: 0.132 ,2:0.695 ,3: 0.056})\n",
        "clf = CalibratedClassifierCV(sv2) \n",
        "clf.fit(X_train, Y_train)\n",
        "predictions100 = clf.predict(X_test)\n",
        "#print(confusion_matrix(Y_test,predictions3))  \n",
        "print(classification_report(Y_test,predictions100,zero_division=1))  \n",
        "print(\" TEST ACCURACY : \",accuracy_score(Y_test, predictions100))"
      ]
    },
    {
      "cell_type": "code",
      "execution_count": 35,
      "metadata": {},
      "outputs": [
        {
          "name": "stderr",
          "output_type": "stream",
          "text": [
            "c:\\Users\\Admin\\AppData\\Local\\Programs\\Python\\Python311\\Lib\\site-packages\\sklearn\\svm\\_classes.py:32: FutureWarning: The default value of `dual` will change from `True` to `'auto'` in 1.5. Set the value of `dual` explicitly to suppress the warning.\n",
            "  warnings.warn(\n",
            "c:\\Users\\Admin\\AppData\\Local\\Programs\\Python\\Python311\\Lib\\site-packages\\sklearn\\svm\\_classes.py:32: FutureWarning: The default value of `dual` will change from `True` to `'auto'` in 1.5. Set the value of `dual` explicitly to suppress the warning.\n",
            "  warnings.warn(\n",
            "c:\\Users\\Admin\\AppData\\Local\\Programs\\Python\\Python311\\Lib\\site-packages\\sklearn\\svm\\_classes.py:32: FutureWarning: The default value of `dual` will change from `True` to `'auto'` in 1.5. Set the value of `dual` explicitly to suppress the warning.\n",
            "  warnings.warn(\n",
            "c:\\Users\\Admin\\AppData\\Local\\Programs\\Python\\Python311\\Lib\\site-packages\\sklearn\\svm\\_classes.py:32: FutureWarning: The default value of `dual` will change from `True` to `'auto'` in 1.5. Set the value of `dual` explicitly to suppress the warning.\n",
            "  warnings.warn(\n",
            "c:\\Users\\Admin\\AppData\\Local\\Programs\\Python\\Python311\\Lib\\site-packages\\sklearn\\svm\\_classes.py:32: FutureWarning: The default value of `dual` will change from `True` to `'auto'` in 1.5. Set the value of `dual` explicitly to suppress the warning.\n",
            "  warnings.warn(\n"
          ]
        },
        {
          "name": "stdout",
          "output_type": "stream",
          "text": [
            "[[  12   33  329    3]\n",
            " [  24   76  321    3]\n",
            " [  31   65 1966   13]\n",
            " [   3   10  142   18]]\n",
            "              precision    recall  f1-score   support\n",
            "\n",
            "           0       0.17      0.03      0.05       377\n",
            "           1       0.41      0.18      0.25       424\n",
            "           2       0.71      0.95      0.81      2075\n",
            "           3       0.49      0.10      0.17       173\n",
            "\n",
            "    accuracy                           0.68      3049\n",
            "   macro avg       0.45      0.32      0.32      3049\n",
            "weighted avg       0.59      0.68      0.60      3049\n",
            "\n",
            "TEST ACCURACY :  0.6795670711708757\n"
          ]
        }
      ],
      "source": [
        "from sklearn.ensemble import VotingClassifier\n",
        "\n",
        "# Assuming models is a list of your trained models\n",
        "voting_clf = VotingClassifier(estimators=[('naive bayes', bnb), ('random forest', rf),('svm', clf),('decision tree', dt) ], voting='soft')\n",
        "voting_clf.fit(X_train, Y_train)\n",
        "ensemble_predictions1 = voting_clf.predict(X_test)\n",
        "print(confusion_matrix(Y_test,ensemble_predictions1))\n",
        "print(classification_report(Y_test,ensemble_predictions1))\n",
        "print(\"TEST ACCURACY : \",accuracy_score(Y_test, ensemble_predictions1))"
      ]
    },
    {
      "cell_type": "code",
      "execution_count": 36,
      "metadata": {},
      "outputs": [
        {
          "name": "stderr",
          "output_type": "stream",
          "text": [
            "c:\\Users\\Admin\\AppData\\Local\\Programs\\Python\\Python311\\Lib\\site-packages\\sklearn\\svm\\_classes.py:32: FutureWarning: The default value of `dual` will change from `True` to `'auto'` in 1.5. Set the value of `dual` explicitly to suppress the warning.\n",
            "  warnings.warn(\n",
            "c:\\Users\\Admin\\AppData\\Local\\Programs\\Python\\Python311\\Lib\\site-packages\\sklearn\\svm\\_classes.py:32: FutureWarning: The default value of `dual` will change from `True` to `'auto'` in 1.5. Set the value of `dual` explicitly to suppress the warning.\n",
            "  warnings.warn(\n",
            "c:\\Users\\Admin\\AppData\\Local\\Programs\\Python\\Python311\\Lib\\site-packages\\sklearn\\svm\\_classes.py:32: FutureWarning: The default value of `dual` will change from `True` to `'auto'` in 1.5. Set the value of `dual` explicitly to suppress the warning.\n",
            "  warnings.warn(\n",
            "c:\\Users\\Admin\\AppData\\Local\\Programs\\Python\\Python311\\Lib\\site-packages\\sklearn\\svm\\_classes.py:32: FutureWarning: The default value of `dual` will change from `True` to `'auto'` in 1.5. Set the value of `dual` explicitly to suppress the warning.\n",
            "  warnings.warn(\n",
            "c:\\Users\\Admin\\AppData\\Local\\Programs\\Python\\Python311\\Lib\\site-packages\\sklearn\\svm\\_classes.py:32: FutureWarning: The default value of `dual` will change from `True` to `'auto'` in 1.5. Set the value of `dual` explicitly to suppress the warning.\n",
            "  warnings.warn(\n",
            "c:\\Users\\Admin\\AppData\\Local\\Programs\\Python\\Python311\\Lib\\site-packages\\sklearn\\svm\\_classes.py:32: FutureWarning: The default value of `dual` will change from `True` to `'auto'` in 1.5. Set the value of `dual` explicitly to suppress the warning.\n",
            "  warnings.warn(\n",
            "c:\\Users\\Admin\\AppData\\Local\\Programs\\Python\\Python311\\Lib\\site-packages\\sklearn\\linear_model\\_logistic.py:460: ConvergenceWarning: lbfgs failed to converge (status=1):\n",
            "STOP: TOTAL NO. of ITERATIONS REACHED LIMIT.\n",
            "\n",
            "Increase the number of iterations (max_iter) or scale the data as shown in:\n",
            "    https://scikit-learn.org/stable/modules/preprocessing.html\n",
            "Please also refer to the documentation for alternative solver options:\n",
            "    https://scikit-learn.org/stable/modules/linear_model.html#logistic-regression\n",
            "  n_iter_i = _check_optimize_result(\n"
          ]
        },
        {
          "name": "stdout",
          "output_type": "stream",
          "text": [
            "[[   4   27  346    0]\n",
            " [   2   71  351    0]\n",
            " [   1   44 2016   14]\n",
            " [   1    3  160    9]]\n",
            "              precision    recall  f1-score   support\n",
            "\n",
            "           0       0.50      0.01      0.02       377\n",
            "           1       0.49      0.17      0.25       424\n",
            "           2       0.70      0.97      0.81      2075\n",
            "           3       0.39      0.05      0.09       173\n",
            "\n",
            "    accuracy                           0.69      3049\n",
            "   macro avg       0.52      0.30      0.29      3049\n",
            "weighted avg       0.63      0.69      0.60      3049\n",
            "\n",
            "TEST ACCURACY :  0.6887504099704821\n"
          ]
        }
      ],
      "source": [
        "from sklearn.ensemble import StackingClassifier\n",
        "from sklearn.linear_model import LogisticRegression\n",
        "\n",
        "# Assuming models is a list of your trained models\n",
        "# meta_model is the model that combines predictions\n",
        "stacked_clf = StackingClassifier(estimators=[('naive bayes', bnb), ('random forest', rf),('svm', sv),('decision tree', dt) ], final_estimator=LogisticRegression())\n",
        "stacked_clf.fit(X_train, Y_train)\n",
        "ensemble_predictions2 = stacked_clf.predict(X_test)\n",
        "print(confusion_matrix(Y_test,ensemble_predictions2))\n",
        "print(classification_report(Y_test,ensemble_predictions2))\n",
        "print(\"TEST ACCURACY : \",accuracy_score(Y_test, ensemble_predictions2))"
      ]
    },
    {
      "cell_type": "code",
      "execution_count": null,
      "metadata": {},
      "outputs": [],
      "source": []
    }
  ],
  "metadata": {
    "colab": {
      "collapsed_sections": [],
      "name": "intern senti.ipynb",
      "provenance": []
    },
    "kernelspec": {
      "display_name": "Python 3",
      "name": "python3"
    },
    "language_info": {
      "codemirror_mode": {
        "name": "ipython",
        "version": 3
      },
      "file_extension": ".py",
      "mimetype": "text/x-python",
      "name": "python",
      "nbconvert_exporter": "python",
      "pygments_lexer": "ipython3",
      "version": "3.11.5"
    }
  },
  "nbformat": 4,
  "nbformat_minor": 0
}
